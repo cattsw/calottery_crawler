{
 "cells": [
  {
   "cell_type": "code",
   "execution_count": 1,
   "metadata": {
    "collapsed": false
   },
   "outputs": [],
   "source": [
    "from bs4 import BeautifulSoup\n",
    "import urllib2\n",
    "import sys, os\n",
    "import re\n",
    "from datetime import date, timedelta\n",
    "from datetime import datetime\n",
    "import urllib\n",
    "import numpy as np\n",
    "import matplotlib.pyplot as plt\n",
    "import matplotlib\n",
    "%matplotlib inline\n",
    "\n",
    "import pandas as pd"
   ]
  },
  {
   "cell_type": "markdown",
   "metadata": {},
   "source": [
    "# Get Pages"
   ]
  },
  {
   "cell_type": "code",
   "execution_count": 2,
   "metadata": {
    "collapsed": false
   },
   "outputs": [],
   "source": [
    "pre_url = 'http://www.calottery.com/play/draw-games/mega-millions/winning-numbers/?page='\n",
    "save_path = '/hdd2/calottery/'"
   ]
  },
  {
   "cell_type": "code",
   "execution_count": null,
   "metadata": {
    "collapsed": false
   },
   "outputs": [],
   "source": []
  },
  {
   "cell_type": "code",
   "execution_count": null,
   "metadata": {
    "collapsed": false
   },
   "outputs": [],
   "source": []
  },
  {
   "cell_type": "code",
   "execution_count": 3,
   "metadata": {
    "collapsed": false
   },
   "outputs": [],
   "source": [
    "def Get_One_Page_Table(table_content):\n",
    "        ###### Get time ######\n",
    "    span_date = table_content.findAll('span', {'id':re.compile(r'objBody_content_0_pagecontent_0*')})\n",
    "    date_list = []\n",
    "    for s in span_date:\n",
    "        str_date = s.contents[0]\n",
    "        str_date = str(str_date.split('-')[0])\n",
    "        data_object = datetime.strptime(str_date, '%b %d, %Y ')\n",
    "        date_list.append(data_object)\n",
    "\n",
    "\n",
    "    ###### Get winning numbers ######\n",
    "    winning_num = []\n",
    "    i = 1\n",
    "    for ele in table_content.findAll('td'):\n",
    "        if ( i % 3 == 2 ):\n",
    "            numbers = ele.findAll('span')\n",
    "            num_list = []\n",
    "            for num in numbers:\n",
    "                if (len(num.contents) > 0):\n",
    "                    num_list.append(int(num.contents[0]))\n",
    "            winning_num.append(num_list)\n",
    "        i += 1\n",
    "\n",
    "    mega_list = []\n",
    "    ###### Get mega  ######\n",
    "    for ele in table_content.findAll('td', class_='center'):\n",
    "        str_num = int(ele.contents[0])\n",
    "        mega_list.append(str_num)\n",
    "\n",
    "    df = pd.DataFrame([[date_list[0], winning_num[0], mega_list[0]]], columns=['Date', 'Winning Num', 'Mega'])\n",
    "    n = len(date_list)\n",
    "    for i in range(1,n):\n",
    "        row = []\n",
    "        row.append(date_list[i])\n",
    "        row.append(winning_num[i])\n",
    "        row.append(mega_list[i])\n",
    "        df = df.append(pd.DataFrame([row], columns=['Date', 'Winning Num', 'Mega']),ignore_index=True)\n",
    "    return df"
   ]
  },
  {
   "cell_type": "code",
   "execution_count": 41,
   "metadata": {
    "collapsed": false
   },
   "outputs": [],
   "source": [
    "num_page = 10\n",
    "df = pd.DataFrame(columns=['Date', 'Winning Num', 'Mega'])\n",
    "for i in range(1,num_page):\n",
    "    target_url = pre_url + str(i)\n",
    "    r = urllib.urlopen(target_url).read()\n",
    "    soup = BeautifulSoup(r)\n",
    "    table_content = soup.find('table', {'class':'tag_even numbers'})\n",
    "    if ( df.empty ):\n",
    "        df = Get_One_Page_Table(table_content)\n",
    "    else:\n",
    "        df1 = Get_One_Page_Table(table_content)\n",
    "        frames = [df, df1]\n",
    "        df = pd.concat(frames, ignore_index=True)\n"
   ]
  },
  {
   "cell_type": "code",
   "execution_count": 57,
   "metadata": {
    "collapsed": false
   },
   "outputs": [],
   "source": [
    "#### winning number ####\n",
    "num_dict = {}\n",
    "for num_list in df.loc[0:50]['Winning Num']:\n",
    "    for num in num_list:\n",
    "        if num not in num_dict.keys():\n",
    "            num_dict[num] = 1\n",
    "        else:\n",
    "            num_dict[num] += 1\n",
    "x_num = []\n",
    "y_freq = []\n",
    "for key, value in sorted(num_dict.iteritems(), key=lambda (k,v): (v,k), reverse=True):\n",
    "    x_num.append(key)\n",
    "    y_freq.append(value)\n",
    "\n",
    "#### mega number ####\n",
    "mega_dict = {}\n",
    "for mega in df.loc[0:50]['Mega']:\n",
    "    if mega not in mega_dict.keys():\n",
    "        mega_dict[mega] = 1\n",
    "    else:\n",
    "        mega_dict[mega] += 1\n",
    "x_mega = []\n",
    "y_freq_mega = []\n",
    "for key, value in sorted(mega_dict.iteritems(), key=lambda (k,v): (v,k), reverse=True):\n",
    "    x_mega.append(key)\n",
    "    y_freq_mega.append(value)\n"
   ]
  },
  {
   "cell_type": "code",
   "execution_count": 23,
   "metadata": {
    "collapsed": false
   },
   "outputs": [],
   "source": []
  },
  {
   "cell_type": "code",
   "execution_count": 53,
   "metadata": {
    "collapsed": false
   },
   "outputs": [
    {
     "data": {
      "image/png": "[encoded data removed]",
      "text/plain": [
       "<matplotlib.figure.Figure at 0x7f594dde2ad0>"
      ]
     },
     "metadata": {},
     "output_type": "display_data"
    }
   ],
   "source": [
    "top = 20\n",
    "x_num = x_num[0:top]\n",
    "y_freq = y_freq[0:top]\n",
    "ind = np.arange(len(y_freq)) \n",
    "width = 0.35\n",
    "\n",
    "fig1, ax = plt.subplots(figsize=(15,8))\n",
    "rects1 = ax.bar(ind, y_freq, width, color='b')\n",
    "\n",
    "ax.set_ylabel('Frequency')\n",
    "ax.set_xticks(ind + 0.15)\n",
    "ax.set_xticklabels(x_num)\n",
    "\n",
    "def autolabel(rects):\n",
    "    # attach some text labels\n",
    "    for rect in rects:\n",
    "        height = rect.get_height()\n",
    "        ax.text(rect.get_x() + rect.get_width()/2., 1.05*height,\n",
    "                '%d' % int(height),\n",
    "                ha='center', va='bottom')\n",
    "autolabel(rects1)\n",
    "\n",
    "plt.show()\n",
    "\n"
   ]
  },
  {
   "cell_type": "code",
   "execution_count": 58,
   "metadata": {
    "collapsed": false
   },
   "outputs": [
    {
     "data": {
      "image/png": "[encoded data removed]",
      "text/plain": [
       "<matplotlib.figure.Figure at 0x7f594e2041d0>"
      ]
     },
     "metadata": {},
     "output_type": "display_data"
    }
   ],
   "source": [
    "ind = np.arange(len(y_freq_mega)) \n",
    "width = 0.35\n",
    "\n",
    "fig1, ax = plt.subplots(figsize=(15,8))\n",
    "rects1 = ax.bar(ind, y_freq_mega, width, color='y')\n",
    "\n",
    "ax.set_ylabel('Frequency')\n",
    "ax.set_xticks(ind + 0.15)\n",
    "ax.set_xticklabels(x_mega)\n",
    "\n",
    "def autolabel(rects):\n",
    "    # attach some text labels\n",
    "    for rect in rects:\n",
    "        height = rect.get_height()\n",
    "        ax.text(rect.get_x() + rect.get_width()/2., 1.05*height,\n",
    "                '%d' % int(height),\n",
    "                ha='center', va='bottom')\n",
    "autolabel(rects1)\n",
    "\n",
    "plt.show()"
   ]
  },
  {
   "cell_type": "code",
   "execution_count": 48,
   "metadata": {
    "collapsed": false
   },
   "outputs": [
    {
     "data": {
      "text/plain": [
       "0     [37, 52, 36, 38, 62]\n",
       "1     [34, 66, 67, 68, 61]\n",
       "2     [72, 65, 51, 25, 48]\n",
       "3     [32, 71, 54, 66, 65]\n",
       "4      [9, 41, 49, 31, 34]\n",
       "5     [41, 50, 70, 18, 68]\n",
       "6     [70, 50, 11, 51, 75]\n",
       "7     [26, 24, 19, 68, 40]\n",
       "8     [48, 27, 75, 17, 24]\n",
       "9     [66, 20, 54, 38, 21]\n",
       "10    [56, 74, 22, 46, 12]\n",
       "11    [32, 26, 14, 27, 36]\n",
       "12    [28, 36, 45, 33, 29]\n",
       "13      [5, 37, 74, 6, 55]\n",
       "14    [16, 14, 48, 17, 28]\n",
       "15     [19, 42, 60, 21, 2]\n",
       "16     [28, 9, 40, 57, 65]\n",
       "17     [37, 10, 34, 73, 9]\n",
       "18     [59, 7, 62, 63, 11]\n",
       "19    [38, 52, 71, 65, 31]\n",
       "20    [57, 53, 13, 45, 52]\n",
       "Name: Winning Num, dtype: object"
      ]
     },
     "execution_count": 48,
     "metadata": {},
     "output_type": "execute_result"
    }
   ],
   "source": [
    "df.loc[0:20]['Winning Num']"
   ]
  }
 ],
 "metadata": {
  "anaconda-cloud": {},
  "kernelspec": {
   "display_name": "Python [default]",
   "language": "python",
   "name": "python2"
  },
  "language_info": {
   "codemirror_mode": {
    "name": "ipython",
    "version": 2
   },
   "file_extension": ".py",
   "mimetype": "text/x-python",
   "name": "python",
   "nbconvert_exporter": "python",
   "pygments_lexer": "ipython2",
   "version": "2.7.12"
  }
 },
 "nbformat": 4,
 "nbformat_minor": 0
}
